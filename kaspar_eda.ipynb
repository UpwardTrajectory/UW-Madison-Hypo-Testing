{
 "cells": [
  {
   "cell_type": "markdown",
   "metadata": {},
   "source": [
    "# Analysis of Grades\n",
    "#### for the University of Washington - Madison, WI\n",
    "#### with Kaspar & Hussein Consulting\n",
    "\n",
    "Dataset from [kaggle.com](https://www.kaggle.com/Madgrades/uw-madison-courses)"
   ]
  },
  {
   "cell_type": "markdown",
   "metadata": {},
   "source": [
    "### To create new database from pgloader:\n",
    "run these commands in the terminal:\n",
    "\n",
    "    1.  brew install pgloader         # possibly already installed\n",
    "    2.  createdb uw_mad_grades        # createdb {databasename}  \n",
    "    3.  pgloader database.sqlite3 postgresql:///uw_mad_grades       # pgloader {sqllite3 filename} postgresql:///{database name}\n",
    "    \n",
    "We will be using a combination of PostgreSQL and also pandas.read_csv(...) since the data is available in both forms.\n",
    "When we only need 1 table at a time, pandas DataFrame will be more convenient. Let's walk through the data folder and read\n",
    "the files, saving them each to their own variable."
   ]
  },
  {
   "cell_type": "code",
   "execution_count": 1,
   "metadata": {},
   "outputs": [],
   "source": [
    "import pandas as pd\n",
    "import numpy as np\n",
    "import os\n",
    "import psycopg2\n",
    "import csv\n",
    "from scipy import stats"
   ]
  },
  {
   "cell_type": "markdown",
   "metadata": {},
   "source": [
    "Here we will find the file names where the raw data lives (inside /data folder)."
   ]
  },
  {
   "cell_type": "code",
   "execution_count": 2,
   "metadata": {},
   "outputs": [
    {
     "data": {
      "text/plain": [
       "10"
      ]
     },
     "execution_count": 2,
     "metadata": {},
     "output_type": "execute_result"
    }
   ],
   "source": [
    "file_names = []\n",
    "for (dirpath, dirnames, filenames) in os.walk('data'):\n",
    "    file_names.extend(filenames)\n",
    "    break\n",
    "    \n",
    "file_names = list(filter(lambda x:'csv' in x, filenames))\n",
    "len(file_names)"
   ]
  },
  {
   "cell_type": "markdown",
   "metadata": {},
   "source": [
    "Now we build and save some dataframes to use later"
   ]
  },
  {
   "cell_type": "code",
   "execution_count": 3,
   "metadata": {},
   "outputs": [
    {
     "name": "stdout",
     "output_type": "stream",
     "text": [
      "Converted into 10 dataframes stored in the dictionary called \"tables\" as well as their individual filenames\n"
     ]
    }
   ],
   "source": [
    "tables = {}\n",
    "for table in file_names:\n",
    "    with open('data/' + table) as f:\n",
    "        tables[table[:-4]] = pd.read_csv(f)\n",
    "        \n",
    "subjects = tables['subjects']\n",
    "subject_memberships = tables['subject_memberships']\n",
    "rooms = tables['rooms']\n",
    "schedules = tables['schedules']\n",
    "sections = tables['sections']\n",
    "courses = tables['courses']\n",
    "course_offerings = tables['course_offerings']\n",
    "instructors = tables['instructors']\n",
    "teachings = tables['teachings']\n",
    "grade_distributions = tables['grade_distributions']\n",
    "        \n",
    "print(f'Converted into {len(tables)} dataframes stored in the dictionary called \"tables\" as well as their individual filenames')"
   ]
  },
  {
   "cell_type": "markdown",
   "metadata": {},
   "source": [
    "Now we begin pulling data from Postgres, first we create a \"helper-table\" to cast a few important columns as numbers instead of strings."
   ]
  },
  {
   "cell_type": "code",
   "execution_count": 4,
   "metadata": {},
   "outputs": [],
   "source": [
    "conn = psycopg2.connect(\"dbname=uw_mad_grades\")\n",
    "cur = conn.cursor()\n",
    "query = '''\n",
    "DROP TABLE IF EXISTS grade_dist_numeric\n",
    "'''\n",
    "cur.execute(query)\n",
    "query = '''\n",
    "CREATE TABLE grade_dist_numeric AS (\n",
    "  SELECT\n",
    "    course_offering_uuid\n",
    "  , section_number\n",
    "  , CAST(grade_distributions.a_count AS integer)\n",
    "  , CAST(grade_distributions.ab_count AS integer)\n",
    "  , CAST(grade_distributions.b_count AS integer)\n",
    "  , CAST(grade_distributions.bc_count AS integer)\n",
    "  , CAST(grade_distributions.c_count AS integer)\n",
    "  , CAST(grade_distributions.d_count AS integer)\n",
    "  , CAST(grade_distributions.f_count AS integer)\n",
    "  FROM grade_distributions\n",
    "  )\n",
    "'''\n",
    "cur.execute(query)\n",
    "conn.commit()"
   ]
  },
  {
   "cell_type": "markdown",
   "metadata": {},
   "source": [
    "This is the big query that will get us all the data we need for the rest of the project. \n",
    "Protip: Formatting a query this large is much easier in a code editor such as Vim, since it will color code variable names and do other helpful things, whereas Jupyter will treat everything inside the string as raw text, which is harder to format nicely."
   ]
  },
  {
   "cell_type": "code",
   "execution_count": 5,
   "metadata": {},
   "outputs": [],
   "source": [
    "conn = psycopg2.connect(\"dbname=uw_mad_grades\")\n",
    "cur = conn.cursor()\n",
    "\n",
    "query = '''\n",
    "SELECT\n",
    "  sections.course_offering_uuid\n",
    ", course_offerings.course_uuid\n",
    ", course_offerings.name\n",
    ", COUNT(sections.number) AS section_count\n",
    ", instructor_id\n",
    ", SUM(a_count) AS a_count\n",
    ", SUM(ab_count) AS ab_count\n",
    ", SUM(b_count) AS b_count\n",
    ", SUM(bc_count) AS bc_count\n",
    ", SUM(c_count) AS c_count\n",
    ", SUM(d_count) AS d_count\n",
    ", SUM(f_count) AS f_count\n",
    "FROM\n",
    "   teachings\n",
    "INNER JOIN\n",
    "   sections\n",
    "   ON teachings.section_uuid=sections.uuid\n",
    "INNER JOIN\n",
    "   grade_dist_numeric\n",
    "   ON (\n",
    "     (sections.course_offering_uuid = grade_dist_numeric.course_offering_uuid)\n",
    "      AND (sections.number = grade_dist_numeric.section_number))\n",
    "INNER JOIN\n",
    "   course_offerings\n",
    "   ON sections.course_offering_uuid=course_offerings.uuid\n",
    "WHERE\n",
    "   (a_count + ab_count + b_count + bc_count + c_count + d_count + f_count) > 0\n",
    "GROUP BY\n",
    "  sections.course_offering_uuid\n",
    ", course_offerings.course_uuid\n",
    ", course_offerings.name\n",
    ", instructor_id\n",
    "HAVING\n",
    "  count(instructor_id) > 1;\n",
    "'''\n",
    "\n",
    "cur.execute(query)\n",
    "all_grades_count_df = pd.DataFrame(cur.fetchall())\n",
    "all_grades_count_df.columns = [i[0] for i in cur.description]"
   ]
  },
  {
   "cell_type": "markdown",
   "metadata": {},
   "source": [
    "Each row of `all_grades_count_df` is an individual class taught be one particular professor, along with the grade counts given for each letter grade. Let's take a look:"
   ]
  },
  {
   "cell_type": "code",
   "execution_count": 6,
   "metadata": {},
   "outputs": [
    {
     "data": {
      "text/html": [
       "<div>\n",
       "<style scoped>\n",
       "    .dataframe tbody tr th:only-of-type {\n",
       "        vertical-align: middle;\n",
       "    }\n",
       "\n",
       "    .dataframe tbody tr th {\n",
       "        vertical-align: top;\n",
       "    }\n",
       "\n",
       "    .dataframe thead th {\n",
       "        text-align: right;\n",
       "    }\n",
       "</style>\n",
       "<table border=\"1\" class=\"dataframe\">\n",
       "  <thead>\n",
       "    <tr style=\"text-align: right;\">\n",
       "      <th></th>\n",
       "      <th>course_offering_uuid</th>\n",
       "      <th>course_uuid</th>\n",
       "      <th>name</th>\n",
       "      <th>section_count</th>\n",
       "      <th>instructor_id</th>\n",
       "      <th>a_count</th>\n",
       "      <th>ab_count</th>\n",
       "      <th>b_count</th>\n",
       "      <th>bc_count</th>\n",
       "      <th>c_count</th>\n",
       "      <th>d_count</th>\n",
       "      <th>f_count</th>\n",
       "    </tr>\n",
       "  </thead>\n",
       "  <tbody>\n",
       "    <tr>\n",
       "      <th>0</th>\n",
       "      <td>000d1ef4-b78a-304e-8ff9-382dfc96835a</td>\n",
       "      <td>10362c9c-bbf8-39e3-8506-c2783ee31625</td>\n",
       "      <td>Diversity in Special Education</td>\n",
       "      <td>3</td>\n",
       "      <td>3802457</td>\n",
       "      <td>96</td>\n",
       "      <td>15</td>\n",
       "      <td>0</td>\n",
       "      <td>0</td>\n",
       "      <td>0</td>\n",
       "      <td>0</td>\n",
       "      <td>0</td>\n",
       "    </tr>\n",
       "    <tr>\n",
       "      <th>1</th>\n",
       "      <td>00193853-8f6d-3e14-994b-77a557b35d74</td>\n",
       "      <td>a4dcc153-1a04-39d8-9b28-b56fb4fa5266</td>\n",
       "      <td>Cult Anthro&amp;Human Diversity</td>\n",
       "      <td>2</td>\n",
       "      <td>3409966</td>\n",
       "      <td>368</td>\n",
       "      <td>272</td>\n",
       "      <td>109</td>\n",
       "      <td>42</td>\n",
       "      <td>21</td>\n",
       "      <td>8</td>\n",
       "      <td>6</td>\n",
       "    </tr>\n",
       "  </tbody>\n",
       "</table>\n",
       "</div>"
      ],
      "text/plain": [
       "                   course_offering_uuid                           course_uuid  \\\n",
       "0  000d1ef4-b78a-304e-8ff9-382dfc96835a  10362c9c-bbf8-39e3-8506-c2783ee31625   \n",
       "1  00193853-8f6d-3e14-994b-77a557b35d74  a4dcc153-1a04-39d8-9b28-b56fb4fa5266   \n",
       "\n",
       "                             name  section_count instructor_id  a_count  \\\n",
       "0  Diversity in Special Education              3       3802457       96   \n",
       "1     Cult Anthro&Human Diversity              2       3409966      368   \n",
       "\n",
       "   ab_count  b_count  bc_count  c_count  d_count  f_count  \n",
       "0        15        0         0        0        0        0  \n",
       "1       272      109        42       21        8        6  "
      ]
     },
     "execution_count": 6,
     "metadata": {},
     "output_type": "execute_result"
    }
   ],
   "source": [
    "all_grades_count_df.head(2)"
   ]
  },
  {
   "cell_type": "markdown",
   "metadata": {},
   "source": [
    "Let's build some new columns: `class_size` is pretty obvious, `counts` is less so. This is a column detailing how many times that class has been taught by *any* professor. If there's an \"unpopular\" class that was only that was only offered 3 times (regardless of whether it was taught by 1 prof three diff times or 3 profs one time each) this column would show `3`.\n",
    "Finally, `pct_A` and `pct_F` are calculated per class, but later we will examine an individual professor's likelihood of giving A's and F's."
   ]
  },
  {
   "cell_type": "code",
   "execution_count": 7,
   "metadata": {},
   "outputs": [],
   "source": [
    "col = ['a_count', 'ab_count', 'b_count', 'bc_count', 'c_count', 'd_count', 'f_count']\n",
    "all_grades_count_df['class_size'] = all_grades_count_df[col].sum(axis=1)\n",
    "all_grades_count_df['counts'] = all_grades_count_df.groupby(['course_uuid'])['course_uuid'].transform('count')\n",
    "all_grades_count_df[\"pct_A\"] = all_grades_count_df['a_count'] / all_grades_count_df['class_size']\n",
    "all_grades_count_df['pct_F'] = all_grades_count_df['f_count'] / all_grades_count_df['class_size']"
   ]
  },
  {
   "cell_type": "markdown",
   "metadata": {},
   "source": [
    "Now we isolate the single course which has been offered the greatest number of times."
   ]
  },
  {
   "cell_type": "code",
   "execution_count": 8,
   "metadata": {},
   "outputs": [
    {
     "data": {
      "text/html": [
       "<div>\n",
       "<style scoped>\n",
       "    .dataframe tbody tr th:only-of-type {\n",
       "        vertical-align: middle;\n",
       "    }\n",
       "\n",
       "    .dataframe tbody tr th {\n",
       "        vertical-align: top;\n",
       "    }\n",
       "\n",
       "    .dataframe thead th {\n",
       "        text-align: right;\n",
       "    }\n",
       "</style>\n",
       "<table border=\"1\" class=\"dataframe\">\n",
       "  <thead>\n",
       "    <tr style=\"text-align: right;\">\n",
       "      <th></th>\n",
       "      <th>course_offering_uuid</th>\n",
       "      <th>course_uuid</th>\n",
       "      <th>name</th>\n",
       "      <th>section_count</th>\n",
       "      <th>instructor_id</th>\n",
       "      <th>a_count</th>\n",
       "      <th>ab_count</th>\n",
       "      <th>b_count</th>\n",
       "      <th>bc_count</th>\n",
       "      <th>c_count</th>\n",
       "      <th>d_count</th>\n",
       "      <th>f_count</th>\n",
       "      <th>class_size</th>\n",
       "      <th>counts</th>\n",
       "      <th>pct_A</th>\n",
       "      <th>pct_F</th>\n",
       "    </tr>\n",
       "  </thead>\n",
       "  <tbody>\n",
       "    <tr>\n",
       "      <th>7587</th>\n",
       "      <td>a1beab6b-05ea-3725-9456-80bed7367a73</td>\n",
       "      <td>7a552326-da08-354c-aafc-f56edcf83f44</td>\n",
       "      <td>Intro to Speech Composition</td>\n",
       "      <td>2</td>\n",
       "      <td>4286528</td>\n",
       "      <td>6</td>\n",
       "      <td>10</td>\n",
       "      <td>4</td>\n",
       "      <td>0</td>\n",
       "      <td>0</td>\n",
       "      <td>0</td>\n",
       "      <td>1</td>\n",
       "      <td>21</td>\n",
       "      <td>489</td>\n",
       "      <td>0.285714</td>\n",
       "      <td>0.047619</td>\n",
       "    </tr>\n",
       "  </tbody>\n",
       "</table>\n",
       "</div>"
      ],
      "text/plain": [
       "                      course_offering_uuid  \\\n",
       "7587  a1beab6b-05ea-3725-9456-80bed7367a73   \n",
       "\n",
       "                               course_uuid                         name  \\\n",
       "7587  7a552326-da08-354c-aafc-f56edcf83f44  Intro to Speech Composition   \n",
       "\n",
       "      section_count instructor_id  a_count  ab_count  b_count  bc_count  \\\n",
       "7587              2       4286528        6        10        4         0   \n",
       "\n",
       "      c_count  d_count  f_count  class_size  counts     pct_A     pct_F  \n",
       "7587        0        0        1          21     489  0.285714  0.047619  "
      ]
     },
     "execution_count": 8,
     "metadata": {},
     "output_type": "execute_result"
    }
   ],
   "source": [
    "#Which class was taught the most times?\n",
    "#all_grades_count_df = all_grades_count_df.loc[all_grades_count_df['counts']>1]\n",
    "all_grades_count_df.sort_values('counts', ascending=False).head(1)"
   ]
  },
  {
   "cell_type": "markdown",
   "metadata": {},
   "source": [
    "Cool, looks like \"Intro to Speech Composition\" was taught a total of 489 times. Let's suppose we are advising the Head of the Communication Arts Dept. at UW-Madison, who would like to know whether any professors in the department are \"outliers\" in terms of grades given. ie. Does anyone give A's \"too freely\" or alternatively do they give F's too readily? We will find list of professors from [the official website](https://commarts.wisc.edu/people?rid=All&field_person_affiliation_tid=11) and compare their percentage of a chosen grade (A or F) with the overall percentage of grades given for anyone who has taught the class."
   ]
  },
  {
   "cell_type": "code",
   "execution_count": 9,
   "metadata": {},
   "outputs": [
    {
     "data": {
      "text/html": [
       "<div>\n",
       "<style scoped>\n",
       "    .dataframe tbody tr th:only-of-type {\n",
       "        vertical-align: middle;\n",
       "    }\n",
       "\n",
       "    .dataframe tbody tr th {\n",
       "        vertical-align: top;\n",
       "    }\n",
       "\n",
       "    .dataframe thead th {\n",
       "        text-align: right;\n",
       "    }\n",
       "</style>\n",
       "<table border=\"1\" class=\"dataframe\">\n",
       "  <thead>\n",
       "    <tr style=\"text-align: right;\">\n",
       "      <th></th>\n",
       "      <th>instructor_id</th>\n",
       "      <th>a_count</th>\n",
       "      <th>ab_count</th>\n",
       "      <th>b_count</th>\n",
       "      <th>bc_count</th>\n",
       "      <th>c_count</th>\n",
       "      <th>d_count</th>\n",
       "      <th>f_count</th>\n",
       "      <th>class_size</th>\n",
       "      <th>pct_A</th>\n",
       "      <th>pct_F</th>\n",
       "    </tr>\n",
       "  </thead>\n",
       "  <tbody>\n",
       "  </tbody>\n",
       "</table>\n",
       "</div>"
      ],
      "text/plain": [
       "Empty DataFrame\n",
       "Columns: [instructor_id, a_count, ab_count, b_count, bc_count, c_count, d_count, f_count, class_size, pct_A, pct_F]\n",
       "Index: []"
      ]
     },
     "execution_count": 9,
     "metadata": {},
     "output_type": "execute_result"
    }
   ],
   "source": [
    "prof_matters = all_grades_count_df.loc[all_grades_count_df['course_uuid'] == '7a552326-da08-354c-aafc-f56edcf83f44'].drop(['course_offering_uuid', 'course_uuid', 'section_count', 'name', 'counts'], axis=1)\n",
    "prof_matters.head(0)     # same as prof_matters.columns   but easier to read"
   ]
  },
  {
   "cell_type": "code",
   "execution_count": 10,
   "metadata": {},
   "outputs": [
    {
     "data": {
      "text/html": [
       "<div>\n",
       "<style scoped>\n",
       "    .dataframe tbody tr th:only-of-type {\n",
       "        vertical-align: middle;\n",
       "    }\n",
       "\n",
       "    .dataframe tbody tr th {\n",
       "        vertical-align: top;\n",
       "    }\n",
       "\n",
       "    .dataframe thead th {\n",
       "        text-align: right;\n",
       "    }\n",
       "</style>\n",
       "<table border=\"1\" class=\"dataframe\">\n",
       "  <thead>\n",
       "    <tr style=\"text-align: right;\">\n",
       "      <th></th>\n",
       "      <th>id</th>\n",
       "      <th>name</th>\n",
       "    </tr>\n",
       "  </thead>\n",
       "  <tbody>\n",
       "    <tr>\n",
       "      <th>258</th>\n",
       "      <td>5519194</td>\n",
       "      <td>IRENE SARMIENTO</td>\n",
       "    </tr>\n",
       "    <tr>\n",
       "      <th>266</th>\n",
       "      <td>5168073</td>\n",
       "      <td>ALANNA PEEBLES</td>\n",
       "    </tr>\n",
       "    <tr>\n",
       "      <th>332</th>\n",
       "      <td>5701690</td>\n",
       "      <td>JULIAN MUELLER-HERBST</td>\n",
       "    </tr>\n",
       "    <tr>\n",
       "      <th>1051</th>\n",
       "      <td>4145440</td>\n",
       "      <td>YANG LIU</td>\n",
       "    </tr>\n",
       "    <tr>\n",
       "      <th>2797</th>\n",
       "      <td>5334549</td>\n",
       "      <td>YANG LIU</td>\n",
       "    </tr>\n",
       "    <tr>\n",
       "      <th>8846</th>\n",
       "      <td>4715210</td>\n",
       "      <td>YANG LIU</td>\n",
       "    </tr>\n",
       "    <tr>\n",
       "      <th>8890</th>\n",
       "      <td>4909736</td>\n",
       "      <td>LARISA DOROSHENKO</td>\n",
       "    </tr>\n",
       "    <tr>\n",
       "      <th>8893</th>\n",
       "      <td>5186059</td>\n",
       "      <td>SANGWON LEE</td>\n",
       "    </tr>\n",
       "    <tr>\n",
       "      <th>8894</th>\n",
       "      <td>1591621</td>\n",
       "      <td>MICHAEL XENOS</td>\n",
       "    </tr>\n",
       "    <tr>\n",
       "      <th>8898</th>\n",
       "      <td>5181640</td>\n",
       "      <td>FANGJING TU</td>\n",
       "    </tr>\n",
       "    <tr>\n",
       "      <th>8955</th>\n",
       "      <td>5863072</td>\n",
       "      <td>MAURA SNYDER</td>\n",
       "    </tr>\n",
       "    <tr>\n",
       "      <th>8964</th>\n",
       "      <td>5697124</td>\n",
       "      <td>XINLE JIA</td>\n",
       "    </tr>\n",
       "    <tr>\n",
       "      <th>11290</th>\n",
       "      <td>1088502</td>\n",
       "      <td>ZHONGDANG PAN</td>\n",
       "    </tr>\n",
       "    <tr>\n",
       "      <th>11291</th>\n",
       "      <td>1131238</td>\n",
       "      <td>MARIE-LOUISE MARES</td>\n",
       "    </tr>\n",
       "    <tr>\n",
       "      <th>12503</th>\n",
       "      <td>4384631</td>\n",
       "      <td>LYN VAN SWOL</td>\n",
       "    </tr>\n",
       "  </tbody>\n",
       "</table>\n",
       "</div>"
      ],
      "text/plain": [
       "            id                   name\n",
       "258    5519194        IRENE SARMIENTO\n",
       "266    5168073         ALANNA PEEBLES\n",
       "332    5701690  JULIAN MUELLER-HERBST\n",
       "1051   4145440               YANG LIU\n",
       "2797   5334549               YANG LIU\n",
       "8846   4715210               YANG LIU\n",
       "8890   4909736      LARISA DOROSHENKO\n",
       "8893   5186059            SANGWON LEE\n",
       "8894   1591621          MICHAEL XENOS\n",
       "8898   5181640            FANGJING TU\n",
       "8955   5863072           MAURA SNYDER\n",
       "8964   5697124              XINLE JIA\n",
       "11290  1088502          ZHONGDANG PAN\n",
       "11291  1131238     MARIE-LOUISE MARES\n",
       "12503  4384631           LYN VAN SWOL"
      ]
     },
     "execution_count": 10,
     "metadata": {},
     "output_type": "execute_result"
    }
   ],
   "source": [
    "current_profs = '''Paul Ahn, Joanne Cantor, Tammy Chang, Anthony Chen, Larisa Doroshenko, Mary Anne Fitzpatrick, Xinle Jia, Sangwon Lee, \n",
    "                    Yang Liu, Marie-Louise Mares, AnneMarie McClain, David Mortensen, Julian Mueller-Herbst, Esther Paik, Zhongdang Pan, \n",
    "                    Alanna Peebles, Irene Sarmiento, Maura Snyder, Catalina L. Toma, Fangjing Tu, Lyn Van Swol, Michael Xenos'''\n",
    "\n",
    "current_profs = current_profs.split(',')\n",
    "current_profs = [name.strip().upper() for name in current_profs]\n",
    "\n",
    "current_profs_df = instructors.loc[instructors['name'].isin(current_profs)].copy()\n",
    "current_profs_df"
   ]
  },
  {
   "cell_type": "markdown",
   "metadata": {},
   "source": [
    "Now let's build a function to parse through *all* professors over the years that have ever taught \"Intro to Speech Composition\" so that we can compare the current instructors vs historical averages."
   ]
  },
  {
   "cell_type": "code",
   "execution_count": 11,
   "metadata": {},
   "outputs": [],
   "source": [
    "def prof_a_size(df=prof_matters, grade='a'):\n",
    "    '''Input a dataframe with grade counts and the professors who gave those grades, along with the \n",
    "       exact grade letter of interest. Output two dictionaries, each with professor as the keys, \n",
    "       ( {prof : df} , {prof : [%<grade> of THIS prof, %<grade> of OTHER profs]})'''\n",
    "    profs = df['instructor_id'].values\n",
    "    profs_dict = {}\n",
    "    profs_pct = {}\n",
    "    grade_search = grade.lower() + '_count'\n",
    "    for prof in profs:\n",
    "        profs_dict[prof] = df.loc[df['instructor_id'] == prof, [grade_search, 'class_size']]   \n",
    "        other_profs = df.loc[df['instructor_id'] != prof, [grade_search, 'class_size']]\n",
    "        pct_other = round(other_profs.sum()[0] / other_profs.sum()[1], 4)\n",
    "        \n",
    "        pct_a = round(profs_dict[prof].sum()[0] / profs_dict[prof].sum()[1], 4)\n",
    "        profs_pct[prof] = pct_a, pct_other\n",
    "        \n",
    "    return profs_dict, profs_pct\n",
    "\n",
    "profs_dict, profs_pct = prof_a_size(prof_matters, grade='a')"
   ]
  },
  {
   "cell_type": "markdown",
   "metadata": {},
   "source": [
    "What do these outputs look like? Here are the first 3 examples from each dictionary:"
   ]
  },
  {
   "cell_type": "code",
   "execution_count": 12,
   "metadata": {},
   "outputs": [
    {
     "name": "stdout",
     "output_type": "stream",
     "text": [
      "     Professor ID: 3009080\n"
     ]
    },
    {
     "data": {
      "text/html": [
       "<div>\n",
       "<style scoped>\n",
       "    .dataframe tbody tr th:only-of-type {\n",
       "        vertical-align: middle;\n",
       "    }\n",
       "\n",
       "    .dataframe tbody tr th {\n",
       "        vertical-align: top;\n",
       "    }\n",
       "\n",
       "    .dataframe thead th {\n",
       "        text-align: right;\n",
       "    }\n",
       "</style>\n",
       "<table border=\"1\" class=\"dataframe\">\n",
       "  <thead>\n",
       "    <tr style=\"text-align: right;\">\n",
       "      <th></th>\n",
       "      <th>a_count</th>\n",
       "      <th>class_size</th>\n",
       "    </tr>\n",
       "  </thead>\n",
       "  <tbody>\n",
       "    <tr>\n",
       "      <th>2593</th>\n",
       "      <td>2</td>\n",
       "      <td>23</td>\n",
       "    </tr>\n",
       "    <tr>\n",
       "      <th>3995</th>\n",
       "      <td>0</td>\n",
       "      <td>21</td>\n",
       "    </tr>\n",
       "  </tbody>\n",
       "</table>\n",
       "</div>"
      ],
      "text/plain": [
       "      a_count  class_size\n",
       "2593        2          23\n",
       "3995        0          21"
      ]
     },
     "metadata": {},
     "output_type": "display_data"
    },
    {
     "data": {
      "text/plain": [
       "(0.0455, 0.2358)"
      ]
     },
     "metadata": {},
     "output_type": "display_data"
    },
    {
     "name": "stdout",
     "output_type": "stream",
     "text": [
      " \n",
      " \n",
      "     Professor ID: 1441959\n"
     ]
    },
    {
     "data": {
      "text/html": [
       "<div>\n",
       "<style scoped>\n",
       "    .dataframe tbody tr th:only-of-type {\n",
       "        vertical-align: middle;\n",
       "    }\n",
       "\n",
       "    .dataframe tbody tr th {\n",
       "        vertical-align: top;\n",
       "    }\n",
       "\n",
       "    .dataframe thead th {\n",
       "        text-align: right;\n",
       "    }\n",
       "</style>\n",
       "<table border=\"1\" class=\"dataframe\">\n",
       "  <thead>\n",
       "    <tr style=\"text-align: right;\">\n",
       "      <th></th>\n",
       "      <th>a_count</th>\n",
       "      <th>class_size</th>\n",
       "    </tr>\n",
       "  </thead>\n",
       "  <tbody>\n",
       "    <tr>\n",
       "      <th>599</th>\n",
       "      <td>4</td>\n",
       "      <td>25</td>\n",
       "    </tr>\n",
       "    <tr>\n",
       "      <th>2589</th>\n",
       "      <td>6</td>\n",
       "      <td>25</td>\n",
       "    </tr>\n",
       "    <tr>\n",
       "      <th>3685</th>\n",
       "      <td>12</td>\n",
       "      <td>23</td>\n",
       "    </tr>\n",
       "    <tr>\n",
       "      <th>4762</th>\n",
       "      <td>5</td>\n",
       "      <td>25</td>\n",
       "    </tr>\n",
       "    <tr>\n",
       "      <th>7575</th>\n",
       "      <td>4</td>\n",
       "      <td>26</td>\n",
       "    </tr>\n",
       "  </tbody>\n",
       "</table>\n",
       "</div>"
      ],
      "text/plain": [
       "      a_count  class_size\n",
       "599         4          25\n",
       "2589        6          25\n",
       "3685       12          23\n",
       "4762        5          25\n",
       "7575        4          26"
      ]
     },
     "metadata": {},
     "output_type": "display_data"
    },
    {
     "data": {
      "text/plain": [
       "(0.25, 0.235)"
      ]
     },
     "metadata": {},
     "output_type": "display_data"
    },
    {
     "name": "stdout",
     "output_type": "stream",
     "text": [
      " \n",
      " \n",
      "     Professor ID: 5183812\n"
     ]
    },
    {
     "data": {
      "text/html": [
       "<div>\n",
       "<style scoped>\n",
       "    .dataframe tbody tr th:only-of-type {\n",
       "        vertical-align: middle;\n",
       "    }\n",
       "\n",
       "    .dataframe tbody tr th {\n",
       "        vertical-align: top;\n",
       "    }\n",
       "\n",
       "    .dataframe thead th {\n",
       "        text-align: right;\n",
       "    }\n",
       "</style>\n",
       "<table border=\"1\" class=\"dataframe\">\n",
       "  <thead>\n",
       "    <tr style=\"text-align: right;\">\n",
       "      <th></th>\n",
       "      <th>a_count</th>\n",
       "      <th>class_size</th>\n",
       "    </tr>\n",
       "  </thead>\n",
       "  <tbody>\n",
       "    <tr>\n",
       "      <th>919</th>\n",
       "      <td>2</td>\n",
       "      <td>22</td>\n",
       "    </tr>\n",
       "    <tr>\n",
       "      <th>2689</th>\n",
       "      <td>3</td>\n",
       "      <td>23</td>\n",
       "    </tr>\n",
       "    <tr>\n",
       "      <th>5788</th>\n",
       "      <td>2</td>\n",
       "      <td>23</td>\n",
       "    </tr>\n",
       "  </tbody>\n",
       "</table>\n",
       "</div>"
      ],
      "text/plain": [
       "      a_count  class_size\n",
       "919         2          22\n",
       "2689        3          23\n",
       "5788        2          23"
      ]
     },
     "metadata": {},
     "output_type": "display_data"
    },
    {
     "data": {
      "text/plain": [
       "(0.1029, 0.2358)"
      ]
     },
     "metadata": {},
     "output_type": "display_data"
    },
    {
     "name": "stdout",
     "output_type": "stream",
     "text": [
      " \n",
      " \n"
     ]
    }
   ],
   "source": [
    "random_3 = np.random.choice(list(profs_dict.keys()), 3)\n",
    "for prof in random_3:\n",
    "    print(f'     Professor ID: {prof}')\n",
    "    display(profs_dict[prof], profs_pct[prof])\n",
    "    print(' ')\n",
    "    print(' ')"
   ]
  },
  {
   "cell_type": "code",
   "execution_count": 24,
   "metadata": {},
   "outputs": [],
   "source": [
    "def get_name_from_id(instructor_id):\n",
    "    return instructors['name'].loc[instructors['id'] == int(instructor_id)].reset_index(drop=True)[0].title()"
   ]
  },
  {
   "cell_type": "code",
   "execution_count": 27,
   "metadata": {},
   "outputs": [],
   "source": [
    "from statsmodels.stats.proportion import proportions_ztest, proportion_confint\n",
    "\n",
    "def prof_hypothesis_test(instructor_id, alpha=.05, grade='a', verbose=False, profs_dict=profs_dict, profs_pct=profs_pct):\n",
    "    \"\"\"input an instructor_id as either a number or a string, calculate the confidence interval for the ratio of a chosen \n",
    "       grade letter, and compute whether this professor gives this grade fairly or not fairly (at a specified alpha level)\n",
    "       when compared to the rest of professors who teach the same class.\"\"\"\n",
    "    test_id = list(profs_dict.keys())[0]\n",
    "    test_letter = profs_dict[test_id].columns[0][0]\n",
    "    if test_letter != grade.lower():\n",
    "        profs_dict, profs_pct = prof_a_size(prof_matters, grade=grade)\n",
    "    if str(instructor_id) not in profs_dict.keys():\n",
    "        return None, None\n",
    "    \n",
    "    name = get_name_from_id(instructor_id)\n",
    "    \n",
    "    instructor_id = str(instructor_id)\n",
    "    \n",
    "    extreme_prof = 'fair'\n",
    "    instructor_As = profs_dict[instructor_id].sum()[0]\n",
    "    instructor_students = profs_dict[instructor_id].sum()[1]\n",
    "    other_instructor_pct = profs_pct[instructor_id][1]\n",
    "    output = proportions_ztest(instructor_As, instructor_students, other_instructor_pct)\n",
    "    \n",
    "    if output[1] < alpha:\n",
    "        extreme_prof = \"not fair\"\n",
    "        \n",
    "    if verbose:\n",
    "        lower, upper = proportion_confint(instructor_As, instructor_students, alpha)\n",
    "        print(f\"{name.title()} is expected to give a ratio of {grade.upper()}'s bewteen {round(100*lower, 4)} and {round(100*upper, 4)}%.\")\n",
    "        print(f\"{name.title()} was {extreme_prof}, and gave {round(100*instructor_As/instructor_students, 2)}% {grade.upper()}'s, vs other instructors: {round(100*other_instructor_pct, 2)}%\")\n",
    "        print(f\"{instructor_As} {grade.upper()}'s out of {instructor_students} total students.\")\n",
    "        print('   ')\n",
    "    return output"
   ]
  },
  {
   "cell_type": "code",
   "execution_count": 28,
   "metadata": {},
   "outputs": [],
   "source": [
    "current_prof_ids = current_profs_df['id'].astype(str).to_list()\n",
    "evaluate_current = prof_matters.loc[prof_matters['instructor_id'].isin(current_prof_ids)].copy()"
   ]
  },
  {
   "cell_type": "code",
   "execution_count": 29,
   "metadata": {},
   "outputs": [
    {
     "data": {
      "text/html": [
       "<div>\n",
       "<style scoped>\n",
       "    .dataframe tbody tr th:only-of-type {\n",
       "        vertical-align: middle;\n",
       "    }\n",
       "\n",
       "    .dataframe tbody tr th {\n",
       "        vertical-align: top;\n",
       "    }\n",
       "\n",
       "    .dataframe thead th {\n",
       "        text-align: right;\n",
       "    }\n",
       "</style>\n",
       "<table border=\"1\" class=\"dataframe\">\n",
       "  <thead>\n",
       "    <tr style=\"text-align: right;\">\n",
       "      <th></th>\n",
       "      <th>instructor_id</th>\n",
       "      <th>a_count</th>\n",
       "      <th>ab_count</th>\n",
       "      <th>b_count</th>\n",
       "      <th>bc_count</th>\n",
       "      <th>c_count</th>\n",
       "      <th>d_count</th>\n",
       "      <th>f_count</th>\n",
       "      <th>class_size</th>\n",
       "      <th>pct_A</th>\n",
       "      <th>pct_F</th>\n",
       "      <th>Z_score</th>\n",
       "      <th>p_value</th>\n",
       "    </tr>\n",
       "  </thead>\n",
       "  <tbody>\n",
       "    <tr>\n",
       "      <th>1690</th>\n",
       "      <td>5701690</td>\n",
       "      <td>12</td>\n",
       "      <td>9</td>\n",
       "      <td>2</td>\n",
       "      <td>0</td>\n",
       "      <td>0</td>\n",
       "      <td>0</td>\n",
       "      <td>0</td>\n",
       "      <td>23</td>\n",
       "      <td>0.521739</td>\n",
       "      <td>0.0</td>\n",
       "      <td>2.756749</td>\n",
       "      <td>0.005838</td>\n",
       "    </tr>\n",
       "    <tr>\n",
       "      <th>5786</th>\n",
       "      <td>5168073</td>\n",
       "      <td>10</td>\n",
       "      <td>11</td>\n",
       "      <td>3</td>\n",
       "      <td>1</td>\n",
       "      <td>0</td>\n",
       "      <td>0</td>\n",
       "      <td>0</td>\n",
       "      <td>25</td>\n",
       "      <td>0.400000</td>\n",
       "      <td>0.0</td>\n",
       "      <td>1.686065</td>\n",
       "      <td>0.091783</td>\n",
       "    </tr>\n",
       "    <tr>\n",
       "      <th>5795</th>\n",
       "      <td>5519194</td>\n",
       "      <td>7</td>\n",
       "      <td>13</td>\n",
       "      <td>3</td>\n",
       "      <td>0</td>\n",
       "      <td>1</td>\n",
       "      <td>1</td>\n",
       "      <td>0</td>\n",
       "      <td>25</td>\n",
       "      <td>0.280000</td>\n",
       "      <td>0.0</td>\n",
       "      <td>0.501115</td>\n",
       "      <td>0.616290</td>\n",
       "    </tr>\n",
       "  </tbody>\n",
       "</table>\n",
       "</div>"
      ],
      "text/plain": [
       "     instructor_id  a_count  ab_count  b_count  bc_count  c_count  d_count  \\\n",
       "1690       5701690       12         9        2         0        0        0   \n",
       "5786       5168073       10        11        3         1        0        0   \n",
       "5795       5519194        7        13        3         0        1        1   \n",
       "\n",
       "      f_count  class_size     pct_A  pct_F   Z_score   p_value  \n",
       "1690        0          23  0.521739    0.0  2.756749  0.005838  \n",
       "5786        0          25  0.400000    0.0  1.686065  0.091783  \n",
       "5795        0          25  0.280000    0.0  0.501115  0.616290  "
      ]
     },
     "execution_count": 29,
     "metadata": {},
     "output_type": "execute_result"
    }
   ],
   "source": [
    "evaluate_current['Z_score'] = evaluate_current['instructor_id'].apply(lambda x:prof_hypothesis_test(x)[0])\n",
    "evaluate_current['p_value'] = evaluate_current['instructor_id'].apply(lambda x:prof_hypothesis_test(x)[1])\n",
    "evaluate_current"
   ]
  },
  {
   "cell_type": "code",
   "execution_count": 30,
   "metadata": {},
   "outputs": [
    {
     "name": "stdout",
     "output_type": "stream",
     "text": [
      "Julian Mueller-Herbst is expected to give a ratio of A's bewteen 31.7592 and 72.5886%.\n",
      "Julian Mueller-Herbst was not fair, and gave 52.17% A's, vs other instructors: 23.46%\n",
      "12 A's out of 23 total students.\n",
      "   \n",
      "Alanna Peebles is expected to give a ratio of A's bewteen 20.7964 and 59.2036%.\n",
      "Alanna Peebles was fair, and gave 40.0% A's, vs other instructors: 23.48%\n",
      "10 A's out of 25 total students.\n",
      "   \n",
      "Irene Sarmiento is expected to give a ratio of A's bewteen 10.3996 and 45.6004%.\n",
      "Irene Sarmiento was fair, and gave 28.0% A's, vs other instructors: 23.5%\n",
      "7 A's out of 25 total students.\n",
      "   \n"
     ]
    }
   ],
   "source": [
    "for prof in evaluate_current['instructor_id']:\n",
    "    prof_hypothesis_test(prof, verbose=True)"
   ]
  },
  {
   "cell_type": "code",
   "execution_count": null,
   "metadata": {},
   "outputs": [],
   "source": [
    "get_name_from_id"
   ]
  },
  {
   "cell_type": "code",
   "execution_count": 37,
   "metadata": {},
   "outputs": [
    {
     "name": "stdout",
     "output_type": "stream",
     "text": [
      "Easiest professors : (their % A's , other prof % A's)\n",
      " \n"
     ]
    },
    {
     "data": {
      "text/plain": [
       "[('Joseph Strand', (0.8, 0.234)),\n",
       " ('Lindsay Hogan Garrison', (0.7551, 0.2331)),\n",
       " ('Leland Pan', (0.7345, 0.2305)),\n",
       " ('Douglas Adams', (0.6923, 0.2342)),\n",
       " ('Dominique Salas', (0.6667, 0.2343))]"
      ]
     },
     "metadata": {},
     "output_type": "display_data"
    },
    {
     "name": "stdout",
     "output_type": "stream",
     "text": [
      " \n",
      "----------------------------------\n",
      " \n",
      "Hardest professors : (their % A's , other prof % A's)\n",
      " \n"
     ]
    },
    {
     "data": {
      "text/plain": [
       "[('Christopher Butler', (0.0408, 0.2359)),\n",
       " ('Joelle Tybon', (0.04, 0.2355)),\n",
       " ('Monica Styles', (0.04, 0.2355)),\n",
       " ('Victoria Lantz', (0.0385, 0.2355)),\n",
       " ('James Matenaer', (0.0312, 0.2362))]"
      ]
     },
     "metadata": {},
     "output_type": "display_data"
    }
   ],
   "source": [
    "def extreme_profs(n=5):\n",
    "    print(\"Easiest professors : (their % A's , other prof % A's)\")\n",
    "    print(' ')\n",
    "    display([(get_name_from_id(key), val) for (key, val) in sorted(profs_pct.items(), key=lambda x: x[1][0], reverse=True)][:n])\n",
    "    print(' ')\n",
    "    print('----------------------------------')\n",
    "    print(' ')\n",
    "    print(\"Hardest professors : (their % A's , other prof % A's)\")\n",
    "    print(' ')\n",
    "    display([(get_name_from_id(key), val) for (key, val) in sorted(profs_pct.items(), key=lambda x: x[1][0], reverse=True)][-n:])\n",
    "extreme_profs(5)"
   ]
  }
 ],
 "metadata": {
  "kernelspec": {
   "display_name": "learn-env",
   "language": "python",
   "name": "learn-env"
  },
  "language_info": {
   "codemirror_mode": {
    "name": "ipython",
    "version": 3
   },
   "file_extension": ".py",
   "mimetype": "text/x-python",
   "name": "python",
   "nbconvert_exporter": "python",
   "pygments_lexer": "ipython3",
   "version": "3.7.3"
  }
 },
 "nbformat": 4,
 "nbformat_minor": 2
}
